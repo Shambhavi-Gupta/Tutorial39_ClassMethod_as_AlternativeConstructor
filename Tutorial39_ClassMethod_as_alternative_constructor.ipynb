{
  "nbformat": 4,
  "nbformat_minor": 0,
  "metadata": {
    "colab": {
      "name": "Tutorial39_ClassMethod_as_alternative_constructor.ipynb",
      "provenance": [],
      "authorship_tag": "ABX9TyPaCIOD6B1mqOPVvViplycD",
      "include_colab_link": true
    },
    "kernelspec": {
      "name": "python3",
      "display_name": "Python 3"
    }
  },
  "cells": [
    {
      "cell_type": "markdown",
      "metadata": {
        "id": "view-in-github",
        "colab_type": "text"
      },
      "source": [
        "<a href=\"https://colab.research.google.com/github/Shambhavi-Gupta/Tutorial39_ClassMethod_as_AlternativeConstructor/blob/main/Tutorial39_ClassMethod_as_alternative_constructor.ipynb\" target=\"_parent\"><img src=\"https://colab.research.google.com/assets/colab-badge.svg\" alt=\"Open In Colab\"/></a>"
      ]
    },
    {
      "cell_type": "code",
      "metadata": {
        "id": "8VgHOFhk3KA5"
      },
      "source": [
        "class Student:\r\n",
        "    no_of_subjects = 5 #class variable\r\n",
        "    def __init__(self,aname,astandard,asection):\r\n",
        "        self.name = aname\r\n",
        "        self.standard = astandard\r\n",
        "        self.section = asection\r\n",
        "\r\n",
        "    def details(self):\r\n",
        "        return f\"Name is {self.name}, Standard is {self.standard}\"\r\n",
        "\r\n",
        "    @classmethod\r\n",
        "    def change_subject(cls , leaves):\r\n",
        "          cls.no_of_subjects = leaves\r\n",
        "\r\n",
        "    @classmethod\r\n",
        "    def from_str(cls,string):\r\n",
        "         # params = string.split(\"-\")\r\n",
        "         # print(params)\r\n",
        "         # return cls(params[0],params[1],params[2]) #here cls is student\r\n",
        "         return cls(*string.split(\"-\"))\r\n",
        "\r\n",
        "one = Student(\"Riya\",10,\"A\") #one and two are instance\r\n",
        "two = Student(\"Seema\",12,\"B\")\r\n",
        "#three = Student(\"Riya-11-C\")\r\n",
        "three = Student.from_str(\"Riya-11-C\")\r\n",
        "\r\n",
        "print(three.no_of_subjects)\r\n",
        "# Student.change_subject(21)\r\n",
        "#print(two.no_of_subjects)"
      ],
      "execution_count": null,
      "outputs": []
    }
  ]
}